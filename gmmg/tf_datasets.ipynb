{
 "cells": [
  {
   "cell_type": "markdown",
   "metadata": {},
   "source": [
    "“This script demonstrates the following steps: 1. Load the ImageNet dataset using TensorFlow Datasets (TFDS). 2. Save images locally as JPEG files. 3. Reload the saved images and use them to create a dataset for training. 4. Define a simple CNN model using Flax. 5. Train the model on the dataset.”"
   ]
  },
  {
   "cell_type": "code",
   "execution_count": 48,
   "metadata": {},
   "outputs": [
    {
     "name": "stdout",
     "output_type": "stream",
     "text": [
      "/hildafs/projects/phy230056p/junzhez/AI/maskgit/gmmg\n",
      "\u001b[0m\u001b[38;5;33mconfig\u001b[0m/       nets.ipynb  test1.ipynb        train_token.ipynb\n",
      "layers.ipynb  \u001b[38;5;33msrc\u001b[0m/        tf_datasets.ipynb\n"
     ]
    }
   ],
   "source": [
    "import os\n",
    "import numpy as np\n",
    "\n",
    "import jax\n",
    "import jax.numpy as jnp\n",
    "from jax import random\n",
    "import flax.linen as nn\n",
    "from flax.training import train_state\n",
    "import optax\n",
    "\n",
    "import matplotlib.pyplot as plt\n",
    "\n",
    "import tensorflow as tf\n",
    "import tensorflow_datasets as tfds\n",
    "\n",
    "%cd /hildafs/projects/phy230056p/junzhez/AI/maskgit/gmmg\n",
    "%ls\n",
    "\n",
    "# Directory to save images\n",
    "data_dir = '/hildafs/projects/phy230056p/junzhez/data/'\n",
    "# data_name = 'imagenet2012_tfds'\n",
    "data_name = 'mnist'\n",
    "save_dir = os.path.join(data_dir, data_name)\n",
    "os.makedirs(save_dir, exist_ok=True)"
   ]
  },
  {
   "cell_type": "code",
   "execution_count": 58,
   "metadata": {},
   "outputs": [],
   "source": [
    "# Load ImageNet dataset\n",
    "dataset_name = 'mnist'\n",
    "split = 'train[:80%]'  # Using a small subset for demonstration purposes\n",
    "dataset, info = tfds.load(dataset_name, data_dir=save_dir, split=split, with_info=True)\n",
    "\n",
    "# Preprocess dataset\n",
    "def preprocess(sample):\n",
    "    image = sample['image']\n",
    "    image = tf.cast(image, tf.float32) / 255.0\n",
    "    label = sample['label']\n",
    "    return image, label\n",
    "\n",
    "dataset = dataset.map(preprocess)\n",
    "\n",
    "# Convert to numpy arrays and batch the data\n",
    "batch_size = 32\n",
    "dataset = dataset.batch(batch_size)"
   ]
  },
  {
   "cell_type": "code",
   "execution_count": 59,
   "metadata": {},
   "outputs": [
    {
     "name": "stderr",
     "output_type": "stream",
     "text": [
      "2024-05-29 00:49:58.234772: W tensorflow/core/framework/local_rendezvous.cc:404] Local rendezvous is aborting with status: OUT_OF_RANGE: End of sequence\n"
     ]
    },
    {
     "name": "stdout",
     "output_type": "stream",
     "text": [
      "Epoch 1 completed\n"
     ]
    },
    {
     "name": "stderr",
     "output_type": "stream",
     "text": [
      "2024-05-29 00:49:58.825803: W tensorflow/core/framework/local_rendezvous.cc:404] Local rendezvous is aborting with status: OUT_OF_RANGE: End of sequence\n"
     ]
    },
    {
     "name": "stdout",
     "output_type": "stream",
     "text": [
      "Epoch 2 completed\n"
     ]
    },
    {
     "name": "stderr",
     "output_type": "stream",
     "text": [
      "2024-05-29 00:49:59.398702: W tensorflow/core/framework/local_rendezvous.cc:404] Local rendezvous is aborting with status: OUT_OF_RANGE: End of sequence\n"
     ]
    },
    {
     "name": "stdout",
     "output_type": "stream",
     "text": [
      "Epoch 3 completed\n"
     ]
    },
    {
     "name": "stderr",
     "output_type": "stream",
     "text": [
      "2024-05-29 00:50:00.050146: W tensorflow/core/framework/local_rendezvous.cc:404] Local rendezvous is aborting with status: OUT_OF_RANGE: End of sequence\n"
     ]
    },
    {
     "name": "stdout",
     "output_type": "stream",
     "text": [
      "Epoch 4 completed\n"
     ]
    },
    {
     "name": "stderr",
     "output_type": "stream",
     "text": [
      "2024-05-29 00:50:00.644332: W tensorflow/core/framework/local_rendezvous.cc:404] Local rendezvous is aborting with status: OUT_OF_RANGE: End of sequence\n"
     ]
    },
    {
     "name": "stdout",
     "output_type": "stream",
     "text": [
      "Epoch 5 completed\n"
     ]
    },
    {
     "name": "stderr",
     "output_type": "stream",
     "text": [
      "2024-05-29 00:50:01.244848: W tensorflow/core/framework/local_rendezvous.cc:404] Local rendezvous is aborting with status: OUT_OF_RANGE: End of sequence\n"
     ]
    },
    {
     "name": "stdout",
     "output_type": "stream",
     "text": [
      "Epoch 6 completed\n"
     ]
    },
    {
     "name": "stderr",
     "output_type": "stream",
     "text": [
      "2024-05-29 00:50:01.818696: W tensorflow/core/framework/local_rendezvous.cc:404] Local rendezvous is aborting with status: OUT_OF_RANGE: End of sequence\n"
     ]
    },
    {
     "name": "stdout",
     "output_type": "stream",
     "text": [
      "Epoch 7 completed\n"
     ]
    },
    {
     "name": "stderr",
     "output_type": "stream",
     "text": [
      "2024-05-29 00:50:02.391407: W tensorflow/core/framework/local_rendezvous.cc:404] Local rendezvous is aborting with status: OUT_OF_RANGE: End of sequence\n"
     ]
    },
    {
     "name": "stdout",
     "output_type": "stream",
     "text": [
      "Epoch 8 completed\n"
     ]
    },
    {
     "name": "stderr",
     "output_type": "stream",
     "text": [
      "2024-05-29 00:50:02.993996: W tensorflow/core/framework/local_rendezvous.cc:404] Local rendezvous is aborting with status: OUT_OF_RANGE: End of sequence\n"
     ]
    },
    {
     "name": "stdout",
     "output_type": "stream",
     "text": [
      "Epoch 9 completed\n",
      "Epoch 10 completed\n",
      "Training completed!\n"
     ]
    },
    {
     "name": "stderr",
     "output_type": "stream",
     "text": [
      "2024-05-29 00:50:03.627403: W tensorflow/core/framework/local_rendezvous.cc:404] Local rendezvous is aborting with status: OUT_OF_RANGE: End of sequence\n"
     ]
    }
   ],
   "source": [
    "# Define the model\n",
    "class CNN(nn.Module):\n",
    "    @nn.compact\n",
    "    def __call__(self, x):\n",
    "        x = nn.Conv(features=32, kernel_size=(3, 3))(x)\n",
    "        x = nn.relu(x)\n",
    "        x = nn.avg_pool(x, window_shape=(2, 2), strides=(2, 2))\n",
    "        x = nn.Conv(features=64, kernel_size=(3, 3))(x)\n",
    "        x = nn.relu(x)\n",
    "        x = nn.avg_pool(x, window_shape=(2, 2), strides=(2, 2))\n",
    "        x = x.reshape((x.shape[0], -1))\n",
    "        x = nn.Dense(features=256)(x)\n",
    "        x = nn.relu(x)\n",
    "        x = nn.Dense(features=10)(x)\n",
    "        return x\n",
    "\n",
    "# Initialize the model and optimizer\n",
    "def create_train_state(rng, learning_rate):\n",
    "    cnn = CNN()\n",
    "    # batch_size, height, width, channels\n",
    "    params = cnn.init(rng, jnp.ones([1, 28, 28, 1]))['params']\n",
    "    tx = optax.sgd(learning_rate)\n",
    "    return train_state.TrainState.create(apply_fn=cnn.apply, params=params, tx=tx)\n",
    "\n",
    "# Training step\n",
    "@jax.jit\n",
    "def train_step(state, batch):\n",
    "    def loss_fn(params):\n",
    "        logits = CNN().apply({'params': params}, batch['image'])\n",
    "        one_hot = jax.nn.one_hot(batch['label'], 10)\n",
    "        loss = jnp.mean(optax.softmax_cross_entropy(logits, one_hot))\n",
    "        return loss\n",
    "    \n",
    "    grads = jax.grad(loss_fn)(state.params)\n",
    "    state = state.apply_gradients(grads=grads)\n",
    "    return state\n",
    "\n",
    "# Train the model\n",
    "rng = jax.random.PRNGKey(0)\n",
    "state = create_train_state(rng, learning_rate=0.01)\n",
    "\n",
    "for epoch in range(10):  # Train for 10 epochs\n",
    "    for batch in dataset.as_numpy_iterator():\n",
    "        images, labels = batch\n",
    "        batch = {'image': images, 'label': labels}\n",
    "        state = train_step(state, batch)\n",
    "    print(f'Epoch {epoch+1} completed')\n",
    "\n",
    "print(\"Training completed!\")"
   ]
  },
  {
   "cell_type": "markdown",
   "metadata": {},
   "source": [
    "# Evaluate and Visualize\n",
    "\n",
    "We now also add in train and validation sets"
   ]
  },
  {
   "cell_type": "code",
   "execution_count": 60,
   "metadata": {},
   "outputs": [],
   "source": [
    "# Load MNIST dataset using TensorFlow Datasets\n",
    "dataset_name = 'mnist'\n",
    "train_split = 'train[:80%]'\n",
    "val_split = 'train[80%:]'\n",
    "test_split = 'test'\n",
    "\n",
    "train_dataset, train_info = tfds.load(dataset_name, data_dir=save_dir, split=train_split, with_info=True)\n",
    "val_dataset = tfds.load(dataset_name, data_dir=save_dir, split=val_split)\n",
    "test_dataset = tfds.load(dataset_name, data_dir=save_dir, split=test_split)\n",
    "\n",
    "# Preprocess dataset\n",
    "def preprocess(sample):\n",
    "    image = sample['image']\n",
    "    image = tf.cast(image, tf.float32) / 255.0\n",
    "    label = sample['label']\n",
    "    return image, label\n",
    "\n",
    "train_dataset = train_dataset.map(preprocess)\n",
    "val_dataset = val_dataset.map(preprocess)\n",
    "test_dataset = test_dataset.map(preprocess)\n",
    "\n",
    "# Convert to numpy arrays and batch the data\n",
    "batch_size = 32\n",
    "train_dataset = train_dataset.batch(batch_size)\n",
    "val_dataset = val_dataset.batch(batch_size)\n",
    "test_dataset = test_dataset.batch(batch_size)\n"
   ]
  },
  {
   "cell_type": "code",
   "execution_count": 63,
   "metadata": {},
   "outputs": [],
   "source": [
    "# Define the model\n",
    "class CNN(nn.Module):\n",
    "    @nn.compact\n",
    "    def __call__(self, x):\n",
    "        x = nn.Conv(features=32, kernel_size=(3, 3))(x)\n",
    "        x = nn.relu(x)\n",
    "        x = nn.avg_pool(x, window_shape=(2, 2), strides=(2, 2))\n",
    "        x = nn.Conv(features=64, kernel_size=(3, 3))(x)\n",
    "        x = nn.relu(x)\n",
    "        x = nn.avg_pool(x, window_shape=(2, 2), strides=(2, 2))\n",
    "        x = x.reshape((x.shape[0], -1))\n",
    "        x = nn.Dense(features=256)(x)\n",
    "        x = nn.relu(x)\n",
    "        x = nn.Dense(features=10)(x)\n",
    "        return x\n",
    "\n",
    "# Initialize the model and optimizer\n",
    "def create_train_state(rng, learning_rate):\n",
    "    cnn = CNN()\n",
    "    params = cnn.init(rng, jnp.ones([1, 28, 28, 1]))['params']\n",
    "    tx = optax.sgd(learning_rate)\n",
    "    return train_state.TrainState.create(apply_fn=cnn.apply, params=params, tx=tx)\n",
    "\n",
    "# Training step\n",
    "@jax.jit\n",
    "def train_step(state, batch):\n",
    "    def loss_fn(params):\n",
    "        logits = CNN().apply({'params': params}, batch['image'])\n",
    "        one_hot = jax.nn.one_hot(batch['label'], 10)\n",
    "        loss = jnp.mean(optax.softmax_cross_entropy(logits, one_hot))\n",
    "        accuracy = jnp.mean(jnp.argmax(logits, -1) == batch['label'])\n",
    "        return loss, accuracy\n",
    "    \n",
    "    grad_fn = jax.value_and_grad(loss_fn, has_aux=True)\n",
    "    (loss, accuracy), grads = grad_fn(state.params)\n",
    "    state = state.apply_gradients(grads=grads)\n",
    "    return state, loss, accuracy"
   ]
  },
  {
   "cell_type": "code",
   "execution_count": 65,
   "metadata": {},
   "outputs": [],
   "source": [
    "@jax.jit\n",
    "def compute_metrics(state, batch):\n",
    "    logits = state.apply_fn({'params': state.params}, batch['image'])\n",
    "    one_hot = jax.nn.one_hot(batch['label'], 10)\n",
    "    loss = jnp.mean(optax.softmax_cross_entropy(logits, one_hot))\n",
    "    accuracy = jnp.mean(jnp.argmax(logits, -1) == batch['label'])\n",
    "    return loss, accuracy\n",
    "\n",
    "def evaluate_model(state, dataset):\n",
    "    total_loss = 0\n",
    "    total_accuracy = 0\n",
    "    num_batches = 0\n",
    "    \n",
    "    for batch in dataset.as_numpy_iterator():\n",
    "        images, labels = batch\n",
    "        batch = {'image': images, 'label': labels}\n",
    "        loss, accuracy = compute_metrics(state, batch)\n",
    "        total_loss += loss\n",
    "        total_accuracy += accuracy\n",
    "        num_batches += 1\n",
    "    \n",
    "    total_loss /= num_batches\n",
    "    total_accuracy /= num_batches\n",
    "    return total_loss, total_accuracy"
   ]
  },
  {
   "cell_type": "code",
   "execution_count": 66,
   "metadata": {},
   "outputs": [
    {
     "name": "stderr",
     "output_type": "stream",
     "text": [
      "2024-05-29 00:52:38.501971: W tensorflow/core/kernels/data/cache_dataset_ops.cc:858] The calling iterator did not fully read the dataset being cached. In order to avoid unexpected truncation of the dataset, the partially cached contents of the dataset  will be discarded. This can happen if you have an input pipeline similar to `dataset.cache().take(k).repeat()`. You should use `dataset.take(k).cache().repeat()` instead.\n",
      "2024-05-29 00:52:40.025165: W tensorflow/core/framework/local_rendezvous.cc:404] Local rendezvous is aborting with status: OUT_OF_RANGE: End of sequence\n",
      "2024-05-29 00:52:40.644606: W tensorflow/core/framework/local_rendezvous.cc:404] Local rendezvous is aborting with status: OUT_OF_RANGE: End of sequence\n"
     ]
    },
    {
     "name": "stdout",
     "output_type": "stream",
     "text": [
      "Epoch 1, Train Loss: 0.6225, Train Accuracy: 0.8259, Val Loss: 0.2952, Val Accuracy: 0.9118\n"
     ]
    },
    {
     "name": "stderr",
     "output_type": "stream",
     "text": [
      "2024-05-29 00:52:41.542080: W tensorflow/core/framework/local_rendezvous.cc:404] Local rendezvous is aborting with status: OUT_OF_RANGE: End of sequence\n",
      "2024-05-29 00:52:41.760854: W tensorflow/core/framework/local_rendezvous.cc:404] Local rendezvous is aborting with status: OUT_OF_RANGE: End of sequence\n"
     ]
    },
    {
     "name": "stdout",
     "output_type": "stream",
     "text": [
      "Epoch 2, Train Loss: 0.2459, Train Accuracy: 0.9251, Val Loss: 0.2105, Val Accuracy: 0.9386\n"
     ]
    },
    {
     "name": "stderr",
     "output_type": "stream",
     "text": [
      "2024-05-29 00:52:42.670735: W tensorflow/core/framework/local_rendezvous.cc:404] Local rendezvous is aborting with status: OUT_OF_RANGE: End of sequence\n",
      "2024-05-29 00:52:42.864124: W tensorflow/core/framework/local_rendezvous.cc:404] Local rendezvous is aborting with status: OUT_OF_RANGE: End of sequence\n"
     ]
    },
    {
     "name": "stdout",
     "output_type": "stream",
     "text": [
      "Epoch 3, Train Loss: 0.1822, Train Accuracy: 0.9446, Val Loss: 0.1650, Val Accuracy: 0.9515\n"
     ]
    },
    {
     "name": "stderr",
     "output_type": "stream",
     "text": [
      "2024-05-29 00:52:43.748056: W tensorflow/core/framework/local_rendezvous.cc:404] Local rendezvous is aborting with status: OUT_OF_RANGE: End of sequence\n",
      "2024-05-29 00:52:43.934597: W tensorflow/core/framework/local_rendezvous.cc:404] Local rendezvous is aborting with status: OUT_OF_RANGE: End of sequence\n"
     ]
    },
    {
     "name": "stdout",
     "output_type": "stream",
     "text": [
      "Epoch 4, Train Loss: 0.1468, Train Accuracy: 0.9558, Val Loss: 0.1389, Val Accuracy: 0.9584\n"
     ]
    },
    {
     "name": "stderr",
     "output_type": "stream",
     "text": [
      "2024-05-29 00:52:44.872181: W tensorflow/core/framework/local_rendezvous.cc:404] Local rendezvous is aborting with status: OUT_OF_RANGE: End of sequence\n",
      "2024-05-29 00:52:45.065218: W tensorflow/core/framework/local_rendezvous.cc:404] Local rendezvous is aborting with status: OUT_OF_RANGE: End of sequence\n"
     ]
    },
    {
     "name": "stdout",
     "output_type": "stream",
     "text": [
      "Epoch 5, Train Loss: 0.1236, Train Accuracy: 0.9635, Val Loss: 0.1204, Val Accuracy: 0.9635\n"
     ]
    },
    {
     "name": "stderr",
     "output_type": "stream",
     "text": [
      "2024-05-29 00:52:45.967176: W tensorflow/core/framework/local_rendezvous.cc:404] Local rendezvous is aborting with status: OUT_OF_RANGE: End of sequence\n",
      "2024-05-29 00:52:46.164549: W tensorflow/core/framework/local_rendezvous.cc:404] Local rendezvous is aborting with status: OUT_OF_RANGE: End of sequence\n"
     ]
    },
    {
     "name": "stdout",
     "output_type": "stream",
     "text": [
      "Epoch 6, Train Loss: 0.1072, Train Accuracy: 0.9681, Val Loss: 0.1092, Val Accuracy: 0.9672\n"
     ]
    },
    {
     "name": "stderr",
     "output_type": "stream",
     "text": [
      "2024-05-29 00:52:47.096955: W tensorflow/core/framework/local_rendezvous.cc:404] Local rendezvous is aborting with status: OUT_OF_RANGE: End of sequence\n",
      "2024-05-29 00:52:47.287667: W tensorflow/core/framework/local_rendezvous.cc:404] Local rendezvous is aborting with status: OUT_OF_RANGE: End of sequence\n"
     ]
    },
    {
     "name": "stdout",
     "output_type": "stream",
     "text": [
      "Epoch 7, Train Loss: 0.0951, Train Accuracy: 0.9715, Val Loss: 0.1008, Val Accuracy: 0.9696\n"
     ]
    },
    {
     "name": "stderr",
     "output_type": "stream",
     "text": [
      "2024-05-29 00:52:48.183617: W tensorflow/core/framework/local_rendezvous.cc:404] Local rendezvous is aborting with status: OUT_OF_RANGE: End of sequence\n",
      "2024-05-29 00:52:48.375708: W tensorflow/core/framework/local_rendezvous.cc:404] Local rendezvous is aborting with status: OUT_OF_RANGE: End of sequence\n"
     ]
    },
    {
     "name": "stdout",
     "output_type": "stream",
     "text": [
      "Epoch 8, Train Loss: 0.0854, Train Accuracy: 0.9744, Val Loss: 0.0936, Val Accuracy: 0.9715\n"
     ]
    },
    {
     "name": "stderr",
     "output_type": "stream",
     "text": [
      "2024-05-29 00:52:49.317335: W tensorflow/core/framework/local_rendezvous.cc:404] Local rendezvous is aborting with status: OUT_OF_RANGE: End of sequence\n",
      "2024-05-29 00:52:49.505696: W tensorflow/core/framework/local_rendezvous.cc:404] Local rendezvous is aborting with status: OUT_OF_RANGE: End of sequence\n"
     ]
    },
    {
     "name": "stdout",
     "output_type": "stream",
     "text": [
      "Epoch 9, Train Loss: 0.0776, Train Accuracy: 0.9765, Val Loss: 0.0892, Val Accuracy: 0.9725\n"
     ]
    },
    {
     "name": "stderr",
     "output_type": "stream",
     "text": [
      "2024-05-29 00:52:50.410163: W tensorflow/core/framework/local_rendezvous.cc:404] Local rendezvous is aborting with status: OUT_OF_RANGE: End of sequence\n",
      "2024-05-29 00:52:50.602780: W tensorflow/core/framework/local_rendezvous.cc:404] Local rendezvous is aborting with status: OUT_OF_RANGE: End of sequence\n"
     ]
    },
    {
     "name": "stdout",
     "output_type": "stream",
     "text": [
      "Epoch 10, Train Loss: 0.0710, Train Accuracy: 0.9788, Val Loss: 0.0854, Val Accuracy: 0.9743\n",
      "Test Loss: 0.0764, Test Accuracy: 0.9763\n"
     ]
    },
    {
     "name": "stderr",
     "output_type": "stream",
     "text": [
      "2024-05-29 00:52:51.213063: W tensorflow/core/framework/local_rendezvous.cc:404] Local rendezvous is aborting with status: OUT_OF_RANGE: End of sequence\n"
     ]
    }
   ],
   "source": [
    "# Training loop\n",
    "rng = jax.random.PRNGKey(0)\n",
    "state = create_train_state(rng, learning_rate=0.01)\n",
    "num_epochs = 10\n",
    "\n",
    "for epoch in range(num_epochs):\n",
    "    # Training\n",
    "    epoch_loss = 0\n",
    "    epoch_accuracy = 0\n",
    "    num_batches = 0\n",
    "\n",
    "    train_iter = iter(train_dataset.as_numpy_iterator())\n",
    "    while True:\n",
    "        try:\n",
    "            batch = next(train_iter)\n",
    "        except StopIteration:\n",
    "            break\n",
    "\n",
    "        images, labels = batch\n",
    "        batch = {\"image\": images, \"label\": labels}\n",
    "        state, loss, accuracy = train_step(state, batch)\n",
    "        epoch_loss += loss\n",
    "        epoch_accuracy += accuracy\n",
    "        num_batches += 1\n",
    "\n",
    "    epoch_loss /= num_batches\n",
    "    epoch_accuracy /= num_batches\n",
    "\n",
    "    # Validation\n",
    "    val_loss, val_accuracy = evaluate_model(state, val_dataset)\n",
    "\n",
    "    print(\n",
    "        f\"Epoch {epoch + 1}, Train Loss: {epoch_loss:.4f}, Train Accuracy: {epoch_accuracy:.4f}, \"\n",
    "        f\"Val Loss: {val_loss:.4f}, Val Accuracy: {val_accuracy:.4f}\"\n",
    "    )\n",
    "\n",
    "# Evaluate on the test set\n",
    "test_loss, test_accuracy = evaluate_model(state, test_dataset)\n",
    "print(f\"Test Loss: {test_loss:.4f}, Test Accuracy: {test_accuracy:.4f}\")"
   ]
  },
  {
   "cell_type": "code",
   "execution_count": 70,
   "metadata": {},
   "outputs": [
    {
     "name": "stdout",
     "output_type": "stream",
     "text": [
      "(10, 32, 28, 28, 1)\n",
      "(10, 32)\n"
     ]
    },
    {
     "data": {
      "image/png": "[encoded data removed]",
      "text/plain": [
       "<Figure size 1500x500 with 5 Axes>"
      ]
     },
     "metadata": {},
     "output_type": "display_data"
    }
   ],
   "source": [
    "def predict(state, images):\n",
    "    logits = state.apply_fn({'params': state.params}, images)\n",
    "    return jnp.argmax(logits, axis=-1)\n",
    "\n",
    "def visualize_predictions(state, dataset, n_display=5):\n",
    "    # Get a batch of images and labels\n",
    "    batch = next(iter(dataset.batch(10).as_numpy_iterator()))\n",
    "    print(batch[0].shape)\n",
    "    print(batch[1].shape)\n",
    "    images, true_labels = batch\n",
    "    images = images[-1]\n",
    "    true_labels = true_labels[-1]\n",
    "    \n",
    "    # Make predictions\n",
    "    predicted_labels = predict(state, images)\n",
    "    \n",
    "    # Plot the images with true and predicted labels\n",
    "    plt.figure(figsize=(15, 5))\n",
    "    for i in range(n_display):\n",
    "        plt.subplot(1, n_display, i+1)\n",
    "        plt.imshow(images[i, ..., 0], cmap='gray')\n",
    "        plt.title(f'True: {true_labels[i]}, Predicted: {predicted_labels[i]}')\n",
    "        plt.axis('off')\n",
    "    plt.show()\n",
    "\n",
    "visualize_predictions(state, dataset)\n"
   ]
  }
 ],
 "metadata": {
  "kernelspec": {
   "display_name": "Python 3 (ipykernel)",
   "language": "python",
   "name": "python3"
  },
  "language_info": {
   "codemirror_mode": {
    "name": "ipython",
    "version": 3
   },
   "file_extension": ".py",
   "mimetype": "text/x-python",
   "name": "python",
   "nbconvert_exporter": "python",
   "pygments_lexer": "ipython3",
   "version": "3.10.14"
  }
 },
 "nbformat": 4,
 "nbformat_minor": 2
}
