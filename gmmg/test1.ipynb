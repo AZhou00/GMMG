{
 "cells": [
  {
   "cell_type": "code",
   "execution_count": null,
   "metadata": {},
   "outputs": [],
   "source": [
    "%reload_ext autoreload\n",
    "%autoreload 2\n",
    "\n",
    "import numpy as np\n",
    "import jax\n",
    "import jax.numpy as jnp\n",
    "import os\n",
    "import itertools\n",
    "from timeit import default_timer as timer\n",
    "\n",
    "%cd /hildafs/projects/phy230056p/junzhez/AI/maskgit\n",
    "%ls\n",
    "import maskgit\n",
    "from maskgit.utils import visualize_images, read_image_from_url, draw_image_with_bbox, Bbox\n",
    "from maskgit.inference import ImageNet_class_conditional_generator\n",
    "\n",
    "arbitrary_seed = 42\n",
    "rng = jax.random.PRNGKey(arbitrary_seed) "
   ]
  },
  {
   "cell_type": "code",
   "execution_count": null,
   "metadata": {},
   "outputs": [],
   "source": [
    "generator_256 = ImageNet_class_conditional_generator(image_size=256)\n",
    "generator_512 = ImageNet_class_conditional_generator(image_size=512)\n",
    "\n",
    "run_mode = 'normal'  #@param ['normal', 'pmap']\n",
    "p_generate_256_samples = generator_256.p_generate_samples()\n",
    "p_edit_512_samples = generator_512.p_edit_samples()"
   ]
  },
  {
   "cell_type": "markdown",
   "metadata": {},
   "source": [
    "### class conditioned image synthesis"
   ]
  },
  {
   "cell_type": "code",
   "execution_count": null,
   "metadata": {},
   "outputs": [],
   "source": [
    "category = \"90) lorikeet\" \n",
    "label = int(category.split(')')[0])\n",
    "\n",
    "# prep the input tokens based on the chosen label\n",
    "input_tokens = generator_256.create_input_tokens_normal(label)\n",
    "pmap_input_tokens = generator_256.pmap_input_tokens(input_tokens)"
   ]
  },
  {
   "cell_type": "code",
   "execution_count": null,
   "metadata": {},
   "outputs": [],
   "source": [
    "# we default to 256 here which is faster\n",
    "image_size = 256\n",
    "\n",
    "# NOTE that in both run modes, subsequent re-runs tend to be much faster \n",
    "# than the initial run.\n",
    "\n",
    "rng, sample_rng = jax.random.split(rng)\n",
    "start_timer = timer()\n",
    "\n",
    "# In \"normal\" mode, a batch of 8 images takes a V80\n",
    "# ~25 seconds in 256x256, and ~75 seconds in 512x512.\n",
    "if run_mode == 'normal':\n",
    "    results = generator_256.generate_samples(input_tokens, sample_rng)\n",
    "elif run_mode == 'pmap':\n",
    "    sample_rngs = jax.random.split(sample_rng, jax.local_device_count())\n",
    "    results = p_generate_256_samples(pmap_input_tokens, sample_rngs)\n",
    "\n",
    "    # flatten the pmap results\n",
    "    results = results.reshape([-1, image_size, image_size, 3])\n",
    "\n",
    "end_timer = timer()\n",
    "print(f\"generated {generator_256.eval_batch_size()} images in {end_timer - start_timer} seconds\")\n",
    "\n",
    "# Visualize\n",
    "visualize_images(results, title=f'results')"
   ]
  },
  {
   "cell_type": "markdown",
   "metadata": {},
   "source": [
    "### class conditioned image editing"
   ]
  },
  {
   "cell_type": "code",
   "execution_count": null,
   "metadata": {},
   "outputs": [],
   "source": [
    "# we switch to 512 here for demo purposes\n",
    "image_size = 512\n",
    "\n",
    "# Feel free to change the input below to your favorite example!\n",
    "bbox_top_left_height_width = '128_128_256_256' # @param\n",
    "img_url = 'https://storage.googleapis.com/maskgit-public/imgs/class_cond_input_1.png' # @param\n",
    "\n",
    "bbox = Bbox(bbox_top_left_height_width)\n",
    "\n",
    "# Load the input image, and visualize it with our bounding box \n",
    "image = read_image_from_url(\n",
    "    img_url, \n",
    "    height=image_size, \n",
    "    width=image_size)\n",
    "\n",
    "draw_image_with_bbox(image, bbox)\n",
    "\n",
    "latent_mask, input_tokens = generator_512.create_latent_mask_and_input_tokens_for_image_editing(\n",
    "    image, bbox, label)\n",
    "\n",
    "pmap_input_tokens = generator_512.pmap_input_tokens(input_tokens)"
   ]
  },
  {
   "cell_type": "code",
   "execution_count": null,
   "metadata": {},
   "outputs": [],
   "source": [
    "rng, sample_rng = jax.random.split(rng)\n",
    "\n",
    "if run_mode == 'normal':\n",
    "    # starting from [2] to represent the fact that we  \n",
    "    # already know some tokens from the given image\n",
    "    results = generator_512.generate_samples(\n",
    "        input_tokens, \n",
    "        sample_rng, \n",
    "        start_iter=2, \n",
    "        num_iterations=12 \n",
    "        )\n",
    "\n",
    "elif run_mode == 'pmap':\n",
    "    sample_rngs = jax.random.split(sample_rng, jax.local_device_count())\n",
    "    results = p_edit_512_samples(pmap_input_tokens, sample_rngs)\n",
    "    # flatten the pmap results\n",
    "    composite_images = results.reshape([-1, image_size, image_size, 3])\n",
    "\n",
    "#-----------------------\n",
    "# Post-process by applying a gaussian blur using the input\n",
    "# and output images.\n",
    "# results.shape, composite_images.shape = (8, 512, 512, 3)\n",
    "composite_images = generator_512.composite_outputs(image, latent_mask, results)\n",
    "\n",
    "#-----------------------\n",
    "visualize_images(composite_images, title=f'outputs')"
   ]
  },
  {
   "cell_type": "code",
   "execution_count": null,
   "metadata": {},
   "outputs": [],
   "source": [
    "\n",
    "\n",
    "# Using the adjusted function\n",
    "input_tokens = generator_256.create_input_tokens_unconditional()\n",
    "pmap_input_tokens = generator_256.pmap_input_tokens(input_tokens)\n",
    "\n",
    "# Generate samples\n",
    "if run_mode == 'pmap':\n",
    "    sample_rngs = jax.random.split(rng, jax.local_device_count())\n",
    "    results = p_generate_256_samples(pmap_input_tokens, sample_rngs)\n",
    "    results = results.reshape([-1, image_size, image_size, 3])\n",
    "else:\n",
    "    results = generator_256.generate_samples(input_tokens, rng)\n",
    "\n",
    "#-----------------------\n",
    "# Post-process by applying a gaussian blur using the input\n",
    "# and output images.\n",
    "# composite_images = generator_512.composite_outputs(image, latent_mask, results)\n",
    "\n",
    "#-----------------------\n",
    "visualize_images(results, title=f'outputs')"
   ]
  },
  {
   "cell_type": "code",
   "execution_count": null,
   "metadata": {},
   "outputs": [],
   "source": [
    "# Update the method call in the usage example\n",
    "latent_mask, input_tokens = generator_512.create_latent_mask_and_input_tokens_for_image_editing_unconditional(\n",
    "    image, bbox)\n",
    "\n",
    "pmap_input_tokens = generator_512.pmap_input_tokens(input_tokens)\n",
    "\n",
    "if run_mode == 'pmap':\n",
    "    sample_rngs = jax.random.split(rng, jax.local_device_count())\n",
    "    results = p_edit_512_samples(pmap_input_tokens, sample_rngs)\n",
    "    results = results.reshape([-1, image_size, image_size, 3])\n",
    "else:\n",
    "    results = generator_512.generate_samples(input_tokens, rng)\n",
    "\n",
    "# Post-process by applying a gaussian blur using the input and output images.\n",
    "# composite_images = generator_512.composite_outputs(image, latent_mask, results)\n",
    "\n",
    "visualize_images(results, title=f'outputs')"
   ]
  },
  {
   "cell_type": "code",
   "execution_count": null,
   "metadata": {},
   "outputs": [],
   "source": []
  }
 ],
 "metadata": {
  "kernelspec": {
   "display_name": "Python 3 (ipykernel)",
   "language": "python",
   "name": "python3"
  },
  "language_info": {
   "codemirror_mode": {
    "name": "ipython",
    "version": 3
   },
   "file_extension": ".py",
   "mimetype": "text/x-python",
   "name": "python",
   "nbconvert_exporter": "python",
   "pygments_lexer": "ipython3",
   "version": "3.10.14"
  }
 },
 "nbformat": 4,
 "nbformat_minor": 2
}
